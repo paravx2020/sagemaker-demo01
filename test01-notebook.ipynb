{
 "cells": [
  {
   "cell_type": "markdown",
   "metadata": {},
   "source": [
    "## To create a file with fake() data"
   ]
  },
  {
   "cell_type": "code",
   "execution_count": null,
   "metadata": {},
   "outputs": [],
   "source": [
    "import boto3\n",
    "from faker import Faker\n",
    "from faker.providers import BaseProvider\n",
    "import random\n",
    "import csv\n",
    "\n",
    "fake = Faker()\n",
    "\n",
    "def generate_record():\n",
    "    return [fake.name(), fake.address(), fake.email()]\n",
    "\n",
    "# message = {\n",
    "#     'name': fake.name(),\n",
    "#     'address': fake.address(),\n",
    "#     'email': fake.email()\n",
    "# }\n",
    "# print(message)"
   ]
  },
  {
   "cell_type": "markdown",
   "metadata": {},
   "source": [
    "## Create a bucket in S3"
   ]
  },
  {
   "cell_type": "code",
   "execution_count": null,
   "metadata": {},
   "outputs": [],
   "source": [
    "## creating a s3 bucket\n",
    "s3 = boto3.resource('s3')\n",
    "mybucket = s3.create_bucket(Bucket='paravx1-demo-bucket', CreateBucketConfiguration={'LocationConstraint': 'ap-south-1'})\n"
   ]
  },
  {
   "cell_type": "markdown",
   "metadata": {},
   "source": [
    "## Upload the file into a folder on S3"
   ]
  },
  {
   "cell_type": "code",
   "execution_count": null,
   "metadata": {},
   "outputs": [],
   "source": [
    "## writing fake() data into a file\n",
    "with open('pizza_dataset.csv', 'w') as csvfile:\n",
    "    writer = csv.writer(csvfile)\n",
    "    writer.writerow(['name', 'address', 'email'])\n",
    "    for n in range(1, 10):\n",
    "        writer.writerow(generate_record())\n",
    "\n",
    "## writing into S3\n",
    "s3.meta.client.put_object(Bucket='paravx1-demo-bucket',Body='', Key='test-folder/')\n",
    "s3.meta.client.upload_file('pizza_dataset.csv', 'paravx1-demo-bucket', 'test-folder/pizza_dataset.csv')\n"
   ]
  },
  {
   "cell_type": "markdown",
   "metadata": {},
   "source": [
    "## Check the bucket contents"
   ]
  },
  {
   "cell_type": "code",
   "execution_count": null,
   "metadata": {},
   "outputs": [],
   "source": [
    "my_bucket = s3.Bucket('paravx1-demo-bucket')\n",
    "\n",
    "for file in my_bucket.objects.all():\n",
    "    print(file.key)"
   ]
  }
 ],
 "metadata": {
  "kernelspec": {
   "display_name": "base",
   "language": "python",
   "name": "python3"
  },
  "language_info": {
   "codemirror_mode": {
    "name": "ipython",
    "version": 3
   },
   "file_extension": ".py",
   "mimetype": "text/x-python",
   "name": "python",
   "nbconvert_exporter": "python",
   "pygments_lexer": "ipython3",
   "version": "3.9.19"
  }
 },
 "nbformat": 4,
 "nbformat_minor": 2
}
